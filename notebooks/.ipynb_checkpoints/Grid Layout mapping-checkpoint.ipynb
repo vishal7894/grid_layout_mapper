{
 "cells": [
  {
   "cell_type": "code",
   "execution_count": 2,
   "metadata": {},
   "outputs": [
    {
     "data": {
      "text/html": [
       "<div>\n",
       "<style scoped>\n",
       "    .dataframe tbody tr th:only-of-type {\n",
       "        vertical-align: middle;\n",
       "    }\n",
       "\n",
       "    .dataframe tbody tr th {\n",
       "        vertical-align: top;\n",
       "    }\n",
       "\n",
       "    .dataframe thead th {\n",
       "        text-align: right;\n",
       "    }\n",
       "</style>\n",
       "<table border=\"1\" class=\"dataframe\">\n",
       "  <thead>\n",
       "    <tr style=\"text-align: right;\">\n",
       "      <th></th>\n",
       "      <th>Unnamed: 0</th>\n",
       "      <th>text</th>\n",
       "      <th>bbox</th>\n",
       "      <th>shape</th>\n",
       "      <th>image</th>\n",
       "      <th>tag</th>\n",
       "      <th>center</th>\n",
       "    </tr>\n",
       "  </thead>\n",
       "  <tbody>\n",
       "    <tr>\n",
       "      <th>0</th>\n",
       "      <td>0</td>\n",
       "      <td>-212</td>\n",
       "      <td>[78, 51, 124, 70]</td>\n",
       "      <td>1137 1739</td>\n",
       "      <td>30.png</td>\n",
       "      <td>O</td>\n",
       "      <td>[101.   60.5]</td>\n",
       "    </tr>\n",
       "    <tr>\n",
       "      <th>1</th>\n",
       "      <td>1</td>\n",
       "      <td>753-</td>\n",
       "      <td>[130, 48, 171, 67]</td>\n",
       "      <td>1137 1739</td>\n",
       "      <td>30.png</td>\n",
       "      <td>O</td>\n",
       "      <td>[150.5  57.5]</td>\n",
       "    </tr>\n",
       "    <tr>\n",
       "      <th>2</th>\n",
       "      <td>2</td>\n",
       "      <td>4455</td>\n",
       "      <td>[171, 48, 217, 65]</td>\n",
       "      <td>1137 1739</td>\n",
       "      <td>30.png</td>\n",
       "      <td>O</td>\n",
       "      <td>[194.   56.5]</td>\n",
       "    </tr>\n",
       "    <tr>\n",
       "      <th>3</th>\n",
       "      <td>3</td>\n",
       "      <td>6242</td>\n",
       "      <td>[874, 100, 945, 127]</td>\n",
       "      <td>1137 1739</td>\n",
       "      <td>30.png</td>\n",
       "      <td>O</td>\n",
       "      <td>[909.5 113.5]</td>\n",
       "    </tr>\n",
       "    <tr>\n",
       "      <th>4</th>\n",
       "      <td>4</td>\n",
       "      <td>INVOICE</td>\n",
       "      <td>[657, 105, 747, 133]</td>\n",
       "      <td>1137 1739</td>\n",
       "      <td>30.png</td>\n",
       "      <td>B-QUESTION</td>\n",
       "      <td>[702. 119.]</td>\n",
       "    </tr>\n",
       "  </tbody>\n",
       "</table>\n",
       "</div>"
      ],
      "text/plain": [
       "   Unnamed: 0     text                  bbox      shape   image         tag  \\\n",
       "0           0     -212     [78, 51, 124, 70]  1137 1739  30.png           O   \n",
       "1           1     753-    [130, 48, 171, 67]  1137 1739  30.png           O   \n",
       "2           2     4455    [171, 48, 217, 65]  1137 1739  30.png           O   \n",
       "3           3     6242  [874, 100, 945, 127]  1137 1739  30.png           O   \n",
       "4           4  INVOICE  [657, 105, 747, 133]  1137 1739  30.png  B-QUESTION   \n",
       "\n",
       "          center  \n",
       "0  [101.   60.5]  \n",
       "1  [150.5  57.5]  \n",
       "2  [194.   56.5]  \n",
       "3  [909.5 113.5]  \n",
       "4    [702. 119.]  "
      ]
     },
     "execution_count": 2,
     "metadata": {},
     "output_type": "execute_result"
    }
   ],
   "source": [
    "import os\n",
    "import numpy as np\n",
    "import cv2\n",
    "import pandas as pd\n",
    "\n",
    "path = r\"V:\\grid_layout\"\n",
    "file = r\"combined.csv\"\n",
    "\n",
    "combined_df = pd.read_csv(os.path.join(path, file))\n",
    "# lines_df = pd.read_csv(os.path.join(path, \"lines_data_text_files\", \"lines_30.txt\"), header = None, sep = \",\")\n",
    "combined_df.head()"
   ]
  },
  {
   "cell_type": "code",
   "execution_count": 3,
   "metadata": {},
   "outputs": [],
   "source": [
    "img = cv2.imread(os.path.join(path, 'raw_data', '30.png'))\n",
    "cv2.namedWindow('img', cv2.WINDOW_NORMAL)\n",
    "cv2.resizeWindow(\"img\", 480,640)\n",
    "cv2.imshow(\"img\", img)\n",
    "cv2.waitKey(0)\n",
    "cv2.destroyAllWindows()"
   ]
  },
  {
   "cell_type": "code",
   "execution_count": 4,
   "metadata": {},
   "outputs": [
    {
     "data": {
      "text/plain": [
       "(1739, 1137, 3)"
      ]
     },
     "execution_count": 4,
     "metadata": {},
     "output_type": "execute_result"
    }
   ],
   "source": [
    "img.shape"
   ]
  },
  {
   "cell_type": "markdown",
   "metadata": {},
   "source": [
    "# get the max words in one line(column) --> calculate a range and get words in that range\n",
    "# same for max words in a columns"
   ]
  },
  {
   "cell_type": "code",
   "execution_count": 5,
   "metadata": {},
   "outputs": [],
   "source": [
    "# with open(os.path.join(path, \"lines_data_text_files\", \"lines_30.txt\"), 'r') as f:\n",
    "#     content = f.readlines()\n",
    "\n"
   ]
  },
  {
   "cell_type": "markdown",
   "metadata": {},
   "source": [
    "# Assuming that grid size would 64x64 "
   ]
  },
  {
   "cell_type": "code",
   "execution_count": 108,
   "metadata": {},
   "outputs": [],
   "source": [
    "grid = np.zeros((64,64), np.uint)"
   ]
  },
  {
   "cell_type": "code",
   "execution_count": 7,
   "metadata": {},
   "outputs": [],
   "source": [
    "df = combined_df.copy()"
   ]
  },
  {
   "cell_type": "code",
   "execution_count": 8,
   "metadata": {},
   "outputs": [],
   "source": [
    "df['bbox'] = df['bbox'].apply(eval)"
   ]
  },
  {
   "cell_type": "code",
   "execution_count": 9,
   "metadata": {},
   "outputs": [
    {
     "data": {
      "text/plain": [
       "[78, 51, 124, 70]"
      ]
     },
     "execution_count": 9,
     "metadata": {},
     "output_type": "execute_result"
    }
   ],
   "source": [
    "df['bbox'][0]"
   ]
  },
  {
   "cell_type": "code",
   "execution_count": 10,
   "metadata": {},
   "outputs": [],
   "source": [
    "df['width'] = df['bbox'].apply(lambda x: x[2] - x[0])\n",
    "df['height'] = df['bbox'].apply(lambda y: y[3] - y[1])\n",
    "df['image_height'] = df['shape'].apply(lambda z: z.split(\" \")[1])\n",
    "df['image_width'] = df['shape'].apply(lambda z: z.split(\" \")[0])"
   ]
  },
  {
   "cell_type": "code",
   "execution_count": 11,
   "metadata": {},
   "outputs": [
    {
     "data": {
      "text/plain": [
       "['1137', '1739']"
      ]
     },
     "execution_count": 11,
     "metadata": {},
     "output_type": "execute_result"
    }
   ],
   "source": [
    "df['shape'][0].split(\" \")"
   ]
  },
  {
   "cell_type": "code",
   "execution_count": 12,
   "metadata": {},
   "outputs": [
    {
     "data": {
      "text/html": [
       "<div>\n",
       "<style scoped>\n",
       "    .dataframe tbody tr th:only-of-type {\n",
       "        vertical-align: middle;\n",
       "    }\n",
       "\n",
       "    .dataframe tbody tr th {\n",
       "        vertical-align: top;\n",
       "    }\n",
       "\n",
       "    .dataframe thead th {\n",
       "        text-align: right;\n",
       "    }\n",
       "</style>\n",
       "<table border=\"1\" class=\"dataframe\">\n",
       "  <thead>\n",
       "    <tr style=\"text-align: right;\">\n",
       "      <th></th>\n",
       "      <th>Unnamed: 0</th>\n",
       "      <th>text</th>\n",
       "      <th>bbox</th>\n",
       "      <th>shape</th>\n",
       "      <th>image</th>\n",
       "      <th>tag</th>\n",
       "      <th>center</th>\n",
       "      <th>width</th>\n",
       "      <th>height</th>\n",
       "      <th>image_height</th>\n",
       "      <th>image_width</th>\n",
       "    </tr>\n",
       "  </thead>\n",
       "  <tbody>\n",
       "    <tr>\n",
       "      <th>0</th>\n",
       "      <td>0</td>\n",
       "      <td>-212</td>\n",
       "      <td>[78, 51, 124, 70]</td>\n",
       "      <td>1137 1739</td>\n",
       "      <td>30.png</td>\n",
       "      <td>O</td>\n",
       "      <td>[101.   60.5]</td>\n",
       "      <td>46</td>\n",
       "      <td>19</td>\n",
       "      <td>1739</td>\n",
       "      <td>1137</td>\n",
       "    </tr>\n",
       "    <tr>\n",
       "      <th>1</th>\n",
       "      <td>1</td>\n",
       "      <td>753-</td>\n",
       "      <td>[130, 48, 171, 67]</td>\n",
       "      <td>1137 1739</td>\n",
       "      <td>30.png</td>\n",
       "      <td>O</td>\n",
       "      <td>[150.5  57.5]</td>\n",
       "      <td>41</td>\n",
       "      <td>19</td>\n",
       "      <td>1739</td>\n",
       "      <td>1137</td>\n",
       "    </tr>\n",
       "    <tr>\n",
       "      <th>2</th>\n",
       "      <td>2</td>\n",
       "      <td>4455</td>\n",
       "      <td>[171, 48, 217, 65]</td>\n",
       "      <td>1137 1739</td>\n",
       "      <td>30.png</td>\n",
       "      <td>O</td>\n",
       "      <td>[194.   56.5]</td>\n",
       "      <td>46</td>\n",
       "      <td>17</td>\n",
       "      <td>1739</td>\n",
       "      <td>1137</td>\n",
       "    </tr>\n",
       "    <tr>\n",
       "      <th>3</th>\n",
       "      <td>3</td>\n",
       "      <td>6242</td>\n",
       "      <td>[874, 100, 945, 127]</td>\n",
       "      <td>1137 1739</td>\n",
       "      <td>30.png</td>\n",
       "      <td>O</td>\n",
       "      <td>[909.5 113.5]</td>\n",
       "      <td>71</td>\n",
       "      <td>27</td>\n",
       "      <td>1739</td>\n",
       "      <td>1137</td>\n",
       "    </tr>\n",
       "    <tr>\n",
       "      <th>4</th>\n",
       "      <td>4</td>\n",
       "      <td>INVOICE</td>\n",
       "      <td>[657, 105, 747, 133]</td>\n",
       "      <td>1137 1739</td>\n",
       "      <td>30.png</td>\n",
       "      <td>B-QUESTION</td>\n",
       "      <td>[702. 119.]</td>\n",
       "      <td>90</td>\n",
       "      <td>28</td>\n",
       "      <td>1739</td>\n",
       "      <td>1137</td>\n",
       "    </tr>\n",
       "  </tbody>\n",
       "</table>\n",
       "</div>"
      ],
      "text/plain": [
       "   Unnamed: 0     text                  bbox      shape   image         tag  \\\n",
       "0           0     -212     [78, 51, 124, 70]  1137 1739  30.png           O   \n",
       "1           1     753-    [130, 48, 171, 67]  1137 1739  30.png           O   \n",
       "2           2     4455    [171, 48, 217, 65]  1137 1739  30.png           O   \n",
       "3           3     6242  [874, 100, 945, 127]  1137 1739  30.png           O   \n",
       "4           4  INVOICE  [657, 105, 747, 133]  1137 1739  30.png  B-QUESTION   \n",
       "\n",
       "          center  width  height image_height image_width  \n",
       "0  [101.   60.5]     46      19         1739        1137  \n",
       "1  [150.5  57.5]     41      19         1739        1137  \n",
       "2  [194.   56.5]     46      17         1739        1137  \n",
       "3  [909.5 113.5]     71      27         1739        1137  \n",
       "4    [702. 119.]     90      28         1739        1137  "
      ]
     },
     "execution_count": 12,
     "metadata": {},
     "output_type": "execute_result"
    }
   ],
   "source": [
    "df.head()"
   ]
  },
  {
   "cell_type": "code",
   "execution_count": 13,
   "metadata": {},
   "outputs": [],
   "source": [
    "def cal_row(n_rows, x_left, text_width, image_width):\n",
    "    row_i = n_rows*(x_left + (text_width/2))/image_width\n",
    "    return row_i\n",
    "\n",
    "def cal_col(n_cols, y_top, text_height, image_height):\n",
    "    col_i = n_cols*(y_top + (text_height/2))/image_height\n",
    "    return col_i"
   ]
  },
  {
   "cell_type": "code",
   "execution_count": 14,
   "metadata": {},
   "outputs": [],
   "source": [
    "rows, cols = [], []\n",
    "for i in df.index:\n",
    "    rows.append(cal_row(64, df['bbox'][i][0], df['width'][i], int(df['image_width'][i])))\n",
    "    cols.append(cal_col(64, df['bbox'][i][2], df['height'][i], int(df['image_height'][i])))\n",
    "#     break\n",
    "# print(rows, cols)"
   ]
  },
  {
   "cell_type": "code",
   "execution_count": 15,
   "metadata": {},
   "outputs": [],
   "source": [
    "df['row'] = rows\n",
    "df['col'] = cols"
   ]
  },
  {
   "cell_type": "code",
   "execution_count": 18,
   "metadata": {},
   "outputs": [],
   "source": [
    "import math\n",
    "df['int_row'] = df['row'].apply(lambda x: int(x))\n",
    "df['int_col'] = df['col'].apply(lambda x: int(x))\n",
    "df['floor_row'] = df['row'].apply(lambda x: math.ceil(x))\n",
    "df['floor_col'] = df['col'].apply(lambda x: math.ceil(x))"
   ]
  },
  {
   "cell_type": "code",
   "execution_count": 19,
   "metadata": {},
   "outputs": [
    {
     "data": {
      "text/html": [
       "<div>\n",
       "<style scoped>\n",
       "    .dataframe tbody tr th:only-of-type {\n",
       "        vertical-align: middle;\n",
       "    }\n",
       "\n",
       "    .dataframe tbody tr th {\n",
       "        vertical-align: top;\n",
       "    }\n",
       "\n",
       "    .dataframe thead th {\n",
       "        text-align: right;\n",
       "    }\n",
       "</style>\n",
       "<table border=\"1\" class=\"dataframe\">\n",
       "  <thead>\n",
       "    <tr style=\"text-align: right;\">\n",
       "      <th></th>\n",
       "      <th>Unnamed: 0</th>\n",
       "      <th>text</th>\n",
       "      <th>bbox</th>\n",
       "      <th>shape</th>\n",
       "      <th>image</th>\n",
       "      <th>tag</th>\n",
       "      <th>center</th>\n",
       "      <th>width</th>\n",
       "      <th>height</th>\n",
       "      <th>image_height</th>\n",
       "      <th>image_width</th>\n",
       "      <th>row</th>\n",
       "      <th>col</th>\n",
       "      <th>int_row</th>\n",
       "      <th>int_col</th>\n",
       "      <th>floor_row</th>\n",
       "      <th>floor_col</th>\n",
       "    </tr>\n",
       "  </thead>\n",
       "  <tbody>\n",
       "    <tr>\n",
       "      <th>0</th>\n",
       "      <td>0</td>\n",
       "      <td>-212</td>\n",
       "      <td>[78, 51, 124, 70]</td>\n",
       "      <td>1137 1739</td>\n",
       "      <td>30.png</td>\n",
       "      <td>O</td>\n",
       "      <td>[101.   60.5]</td>\n",
       "      <td>46</td>\n",
       "      <td>19</td>\n",
       "      <td>1739</td>\n",
       "      <td>1137</td>\n",
       "      <td>5.685136</td>\n",
       "      <td>4.913168</td>\n",
       "      <td>5</td>\n",
       "      <td>4</td>\n",
       "      <td>6</td>\n",
       "      <td>5</td>\n",
       "    </tr>\n",
       "    <tr>\n",
       "      <th>1</th>\n",
       "      <td>1</td>\n",
       "      <td>753-</td>\n",
       "      <td>[130, 48, 171, 67]</td>\n",
       "      <td>1137 1739</td>\n",
       "      <td>30.png</td>\n",
       "      <td>O</td>\n",
       "      <td>[150.5  57.5]</td>\n",
       "      <td>41</td>\n",
       "      <td>19</td>\n",
       "      <td>1739</td>\n",
       "      <td>1137</td>\n",
       "      <td>8.471416</td>\n",
       "      <td>6.642898</td>\n",
       "      <td>8</td>\n",
       "      <td>6</td>\n",
       "      <td>9</td>\n",
       "      <td>7</td>\n",
       "    </tr>\n",
       "    <tr>\n",
       "      <th>2</th>\n",
       "      <td>2</td>\n",
       "      <td>4455</td>\n",
       "      <td>[171, 48, 217, 65]</td>\n",
       "      <td>1137 1739</td>\n",
       "      <td>30.png</td>\n",
       "      <td>O</td>\n",
       "      <td>[194.   56.5]</td>\n",
       "      <td>46</td>\n",
       "      <td>17</td>\n",
       "      <td>1739</td>\n",
       "      <td>1137</td>\n",
       "      <td>10.919965</td>\n",
       "      <td>8.299022</td>\n",
       "      <td>10</td>\n",
       "      <td>8</td>\n",
       "      <td>11</td>\n",
       "      <td>9</td>\n",
       "    </tr>\n",
       "    <tr>\n",
       "      <th>3</th>\n",
       "      <td>3</td>\n",
       "      <td>6242</td>\n",
       "      <td>[874, 100, 945, 127]</td>\n",
       "      <td>1137 1739</td>\n",
       "      <td>30.png</td>\n",
       "      <td>O</td>\n",
       "      <td>[909.5 113.5]</td>\n",
       "      <td>71</td>\n",
       "      <td>27</td>\n",
       "      <td>1739</td>\n",
       "      <td>1137</td>\n",
       "      <td>51.194371</td>\n",
       "      <td>35.275446</td>\n",
       "      <td>51</td>\n",
       "      <td>35</td>\n",
       "      <td>52</td>\n",
       "      <td>36</td>\n",
       "    </tr>\n",
       "    <tr>\n",
       "      <th>4</th>\n",
       "      <td>4</td>\n",
       "      <td>INVOICE</td>\n",
       "      <td>[657, 105, 747, 133]</td>\n",
       "      <td>1137 1739</td>\n",
       "      <td>30.png</td>\n",
       "      <td>B-QUESTION</td>\n",
       "      <td>[702. 119.]</td>\n",
       "      <td>90</td>\n",
       "      <td>28</td>\n",
       "      <td>1739</td>\n",
       "      <td>1137</td>\n",
       "      <td>39.514512</td>\n",
       "      <td>28.006901</td>\n",
       "      <td>39</td>\n",
       "      <td>28</td>\n",
       "      <td>40</td>\n",
       "      <td>29</td>\n",
       "    </tr>\n",
       "  </tbody>\n",
       "</table>\n",
       "</div>"
      ],
      "text/plain": [
       "   Unnamed: 0     text                  bbox      shape   image         tag  \\\n",
       "0           0     -212     [78, 51, 124, 70]  1137 1739  30.png           O   \n",
       "1           1     753-    [130, 48, 171, 67]  1137 1739  30.png           O   \n",
       "2           2     4455    [171, 48, 217, 65]  1137 1739  30.png           O   \n",
       "3           3     6242  [874, 100, 945, 127]  1137 1739  30.png           O   \n",
       "4           4  INVOICE  [657, 105, 747, 133]  1137 1739  30.png  B-QUESTION   \n",
       "\n",
       "          center  width  height image_height image_width        row  \\\n",
       "0  [101.   60.5]     46      19         1739        1137   5.685136   \n",
       "1  [150.5  57.5]     41      19         1739        1137   8.471416   \n",
       "2  [194.   56.5]     46      17         1739        1137  10.919965   \n",
       "3  [909.5 113.5]     71      27         1739        1137  51.194371   \n",
       "4    [702. 119.]     90      28         1739        1137  39.514512   \n",
       "\n",
       "         col  int_row  int_col  floor_row  floor_col  \n",
       "0   4.913168        5        4          6          5  \n",
       "1   6.642898        8        6          9          7  \n",
       "2   8.299022       10        8         11          9  \n",
       "3  35.275446       51       35         52         36  \n",
       "4  28.006901       39       28         40         29  "
      ]
     },
     "execution_count": 19,
     "metadata": {},
     "output_type": "execute_result"
    }
   ],
   "source": [
    "df.head()"
   ]
  },
  {
   "cell_type": "code",
   "execution_count": 20,
   "metadata": {},
   "outputs": [],
   "source": [
    "df_ = df.copy()\n",
    "df_ = df_[df['image']=='30.png']"
   ]
  },
  {
   "cell_type": "code",
   "execution_count": 21,
   "metadata": {},
   "outputs": [
    {
     "data": {
      "text/html": [
       "<div>\n",
       "<style scoped>\n",
       "    .dataframe tbody tr th:only-of-type {\n",
       "        vertical-align: middle;\n",
       "    }\n",
       "\n",
       "    .dataframe tbody tr th {\n",
       "        vertical-align: top;\n",
       "    }\n",
       "\n",
       "    .dataframe thead th {\n",
       "        text-align: right;\n",
       "    }\n",
       "</style>\n",
       "<table border=\"1\" class=\"dataframe\">\n",
       "  <thead>\n",
       "    <tr style=\"text-align: right;\">\n",
       "      <th></th>\n",
       "      <th>Unnamed: 0</th>\n",
       "      <th>text</th>\n",
       "      <th>bbox</th>\n",
       "      <th>shape</th>\n",
       "      <th>image</th>\n",
       "      <th>tag</th>\n",
       "      <th>center</th>\n",
       "      <th>width</th>\n",
       "      <th>height</th>\n",
       "      <th>image_height</th>\n",
       "      <th>image_width</th>\n",
       "      <th>row</th>\n",
       "      <th>col</th>\n",
       "      <th>int_row</th>\n",
       "      <th>int_col</th>\n",
       "      <th>floor_row</th>\n",
       "      <th>floor_col</th>\n",
       "    </tr>\n",
       "  </thead>\n",
       "  <tbody>\n",
       "    <tr>\n",
       "      <th>0</th>\n",
       "      <td>0</td>\n",
       "      <td>-212</td>\n",
       "      <td>[78, 51, 124, 70]</td>\n",
       "      <td>1137 1739</td>\n",
       "      <td>30.png</td>\n",
       "      <td>O</td>\n",
       "      <td>[101.   60.5]</td>\n",
       "      <td>46</td>\n",
       "      <td>19</td>\n",
       "      <td>1739</td>\n",
       "      <td>1137</td>\n",
       "      <td>5.685136</td>\n",
       "      <td>4.913168</td>\n",
       "      <td>5</td>\n",
       "      <td>4</td>\n",
       "      <td>6</td>\n",
       "      <td>5</td>\n",
       "    </tr>\n",
       "    <tr>\n",
       "      <th>1</th>\n",
       "      <td>1</td>\n",
       "      <td>753-</td>\n",
       "      <td>[130, 48, 171, 67]</td>\n",
       "      <td>1137 1739</td>\n",
       "      <td>30.png</td>\n",
       "      <td>O</td>\n",
       "      <td>[150.5  57.5]</td>\n",
       "      <td>41</td>\n",
       "      <td>19</td>\n",
       "      <td>1739</td>\n",
       "      <td>1137</td>\n",
       "      <td>8.471416</td>\n",
       "      <td>6.642898</td>\n",
       "      <td>8</td>\n",
       "      <td>6</td>\n",
       "      <td>9</td>\n",
       "      <td>7</td>\n",
       "    </tr>\n",
       "    <tr>\n",
       "      <th>2</th>\n",
       "      <td>2</td>\n",
       "      <td>4455</td>\n",
       "      <td>[171, 48, 217, 65]</td>\n",
       "      <td>1137 1739</td>\n",
       "      <td>30.png</td>\n",
       "      <td>O</td>\n",
       "      <td>[194.   56.5]</td>\n",
       "      <td>46</td>\n",
       "      <td>17</td>\n",
       "      <td>1739</td>\n",
       "      <td>1137</td>\n",
       "      <td>10.919965</td>\n",
       "      <td>8.299022</td>\n",
       "      <td>10</td>\n",
       "      <td>8</td>\n",
       "      <td>11</td>\n",
       "      <td>9</td>\n",
       "    </tr>\n",
       "    <tr>\n",
       "      <th>3</th>\n",
       "      <td>3</td>\n",
       "      <td>6242</td>\n",
       "      <td>[874, 100, 945, 127]</td>\n",
       "      <td>1137 1739</td>\n",
       "      <td>30.png</td>\n",
       "      <td>O</td>\n",
       "      <td>[909.5 113.5]</td>\n",
       "      <td>71</td>\n",
       "      <td>27</td>\n",
       "      <td>1739</td>\n",
       "      <td>1137</td>\n",
       "      <td>51.194371</td>\n",
       "      <td>35.275446</td>\n",
       "      <td>51</td>\n",
       "      <td>35</td>\n",
       "      <td>52</td>\n",
       "      <td>36</td>\n",
       "    </tr>\n",
       "    <tr>\n",
       "      <th>4</th>\n",
       "      <td>4</td>\n",
       "      <td>INVOICE</td>\n",
       "      <td>[657, 105, 747, 133]</td>\n",
       "      <td>1137 1739</td>\n",
       "      <td>30.png</td>\n",
       "      <td>B-QUESTION</td>\n",
       "      <td>[702. 119.]</td>\n",
       "      <td>90</td>\n",
       "      <td>28</td>\n",
       "      <td>1739</td>\n",
       "      <td>1137</td>\n",
       "      <td>39.514512</td>\n",
       "      <td>28.006901</td>\n",
       "      <td>39</td>\n",
       "      <td>28</td>\n",
       "      <td>40</td>\n",
       "      <td>29</td>\n",
       "    </tr>\n",
       "  </tbody>\n",
       "</table>\n",
       "</div>"
      ],
      "text/plain": [
       "   Unnamed: 0     text                  bbox      shape   image         tag  \\\n",
       "0           0     -212     [78, 51, 124, 70]  1137 1739  30.png           O   \n",
       "1           1     753-    [130, 48, 171, 67]  1137 1739  30.png           O   \n",
       "2           2     4455    [171, 48, 217, 65]  1137 1739  30.png           O   \n",
       "3           3     6242  [874, 100, 945, 127]  1137 1739  30.png           O   \n",
       "4           4  INVOICE  [657, 105, 747, 133]  1137 1739  30.png  B-QUESTION   \n",
       "\n",
       "          center  width  height image_height image_width        row  \\\n",
       "0  [101.   60.5]     46      19         1739        1137   5.685136   \n",
       "1  [150.5  57.5]     41      19         1739        1137   8.471416   \n",
       "2  [194.   56.5]     46      17         1739        1137  10.919965   \n",
       "3  [909.5 113.5]     71      27         1739        1137  51.194371   \n",
       "4    [702. 119.]     90      28         1739        1137  39.514512   \n",
       "\n",
       "         col  int_row  int_col  floor_row  floor_col  \n",
       "0   4.913168        5        4          6          5  \n",
       "1   6.642898        8        6          9          7  \n",
       "2   8.299022       10        8         11          9  \n",
       "3  35.275446       51       35         52         36  \n",
       "4  28.006901       39       28         40         29  "
      ]
     },
     "execution_count": 21,
     "metadata": {},
     "output_type": "execute_result"
    }
   ],
   "source": [
    "df_.head()"
   ]
  },
  {
   "cell_type": "code",
   "execution_count": 22,
   "metadata": {},
   "outputs": [
    {
     "data": {
      "text/plain": [
       "(38, 30)"
      ]
     },
     "execution_count": 22,
     "metadata": {},
     "output_type": "execute_result"
    }
   ],
   "source": [
    "len(df_['int_row'].unique()), len(df_['int_col'].unique())"
   ]
  },
  {
   "cell_type": "code",
   "execution_count": 23,
   "metadata": {},
   "outputs": [
    {
     "data": {
      "text/plain": [
       "(38, 30)"
      ]
     },
     "execution_count": 23,
     "metadata": {},
     "output_type": "execute_result"
    }
   ],
   "source": [
    "len(df_['floor_row'].unique()), len(df_['floor_col'].unique())"
   ]
  },
  {
   "cell_type": "code",
   "execution_count": 24,
   "metadata": {},
   "outputs": [
    {
     "data": {
      "text/plain": [
       "(89, 89)"
      ]
     },
     "execution_count": 24,
     "metadata": {},
     "output_type": "execute_result"
    }
   ],
   "source": [
    "len(df_['row']), len(df_['col'])"
   ]
  },
  {
   "cell_type": "code",
   "execution_count": 25,
   "metadata": {},
   "outputs": [
    {
     "data": {
      "text/plain": [
       "(57, 40)"
      ]
     },
     "execution_count": 25,
     "metadata": {},
     "output_type": "execute_result"
    }
   ],
   "source": [
    "max(df_['int_row']), max(df_['int_col'])"
   ]
  },
  {
   "cell_type": "code",
   "execution_count": 26,
   "metadata": {},
   "outputs": [
    {
     "data": {
      "text/plain": [
       "(5, 4)"
      ]
     },
     "execution_count": 26,
     "metadata": {},
     "output_type": "execute_result"
    }
   ],
   "source": [
    "min(df_['int_row']), min(df_['int_col'])"
   ]
  },
  {
   "cell_type": "code",
   "execution_count": 27,
   "metadata": {},
   "outputs": [
    {
     "data": {
      "text/plain": [
       "(58, 41)"
      ]
     },
     "execution_count": 27,
     "metadata": {},
     "output_type": "execute_result"
    }
   ],
   "source": [
    "max(df_['floor_row']), max(df_['floor_col'])"
   ]
  },
  {
   "cell_type": "code",
   "execution_count": 28,
   "metadata": {},
   "outputs": [
    {
     "data": {
      "text/plain": [
       "(6, 5)"
      ]
     },
     "execution_count": 28,
     "metadata": {},
     "output_type": "execute_result"
    }
   ],
   "source": [
    "min(df_['floor_row']), min(df_['floor_col'])"
   ]
  },
  {
   "cell_type": "markdown",
   "metadata": {},
   "source": [
    "# TODO --> manage conflicting rows and Columns "
   ]
  },
  {
   "cell_type": "code",
   "execution_count": 74,
   "metadata": {},
   "outputs": [
    {
     "data": {
      "text/plain": [
       "(89, 89)"
      ]
     },
     "execution_count": 74,
     "metadata": {},
     "output_type": "execute_result"
    }
   ],
   "source": [
    "len(df_['floor_col']), len(df_['floor_row'])"
   ]
  },
  {
   "cell_type": "code",
   "execution_count": 69,
   "metadata": {},
   "outputs": [],
   "source": [
    "z = zip(rows, cols)"
   ]
  },
  {
   "cell_type": "code",
   "execution_count": 81,
   "metadata": {},
   "outputs": [],
   "source": [
    "df_['pos_r'] = df_['floor_row'].apply(lambda x: str(x))"
   ]
  },
  {
   "cell_type": "code",
   "execution_count": 82,
   "metadata": {},
   "outputs": [],
   "source": [
    "df_['pos_c'] = df_['floor_col'].apply(lambda x: str(x))"
   ]
  },
  {
   "cell_type": "code",
   "execution_count": 90,
   "metadata": {},
   "outputs": [],
   "source": [
    "df_['pos'] = df_['pos_r']+\",\"+df_['pos_c']"
   ]
  },
  {
   "cell_type": "code",
   "execution_count": 91,
   "metadata": {},
   "outputs": [
    {
     "data": {
      "text/plain": [
       "(6, 5)"
      ]
     },
     "execution_count": 91,
     "metadata": {},
     "output_type": "execute_result"
    }
   ],
   "source": [
    "df_['pos'] = df_['pos'].apply(eval)\n",
    "df_['pos'][0]"
   ]
  },
  {
   "cell_type": "code",
   "execution_count": 93,
   "metadata": {},
   "outputs": [
    {
     "data": {
      "text/plain": [
       "<bound method Series.unique of 0       (6, 5)\n",
       "1       (9, 7)\n",
       "2      (11, 9)\n",
       "3     (52, 36)\n",
       "4     (40, 29)\n",
       "        ...   \n",
       "84    (55, 37)\n",
       "85    (57, 38)\n",
       "86    (14, 11)\n",
       "87    (54, 37)\n",
       "88    (57, 39)\n",
       "Name: pos, Length: 89, dtype: object>"
      ]
     },
     "execution_count": 93,
     "metadata": {},
     "output_type": "execute_result"
    }
   ],
   "source": [
    "df_['pos'].unique"
   ]
  },
  {
   "cell_type": "code",
   "execution_count": 109,
   "metadata": {},
   "outputs": [],
   "source": [
    "for i in df_.index:\n",
    "    grid[df_['pos'].iloc[i]] = df_['Unnamed: 0'].iloc[i]"
   ]
  },
  {
   "cell_type": "code",
   "execution_count": 110,
   "metadata": {
    "collapsed": true
   },
   "outputs": [
    {
     "name": "stdout",
     "output_type": "stream",
     "text": [
      "[0 0 0 0 0 0 0 0 0 0 0 0 0 0 0 0 0 0 0 0 0 0 0 0 0 0 0 0 0 0 0 0 0 0 0 0 0\n",
      " 0 0 0 0 0 0 0 0 0 0 0 0 0 0 0 0 0 0 0 0 0 0 0 0 0 0 0]\n",
      "[0 0 0 0 0 0 0 0 0 0 0 0 0 0 0 0 0 0 0 0 0 0 0 0 0 0 0 0 0 0 0 0 0 0 0 0 0\n",
      " 0 0 0 0 0 0 0 0 0 0 0 0 0 0 0 0 0 0 0 0 0 0 0 0 0 0 0]\n",
      "[0 0 0 0 0 0 0 0 0 0 0 0 0 0 0 0 0 0 0 0 0 0 0 0 0 0 0 0 0 0 0 0 0 0 0 0 0\n",
      " 0 0 0 0 0 0 0 0 0 0 0 0 0 0 0 0 0 0 0 0 0 0 0 0 0 0 0]\n",
      "[0 0 0 0 0 0 0 0 0 0 0 0 0 0 0 0 0 0 0 0 0 0 0 0 0 0 0 0 0 0 0 0 0 0 0 0 0\n",
      " 0 0 0 0 0 0 0 0 0 0 0 0 0 0 0 0 0 0 0 0 0 0 0 0 0 0 0]\n",
      "[0 0 0 0 0 0 0 0 0 0 0 0 0 0 0 0 0 0 0 0 0 0 0 0 0 0 0 0 0 0 0 0 0 0 0 0 0\n",
      " 0 0 0 0 0 0 0 0 0 0 0 0 0 0 0 0 0 0 0 0 0 0 0 0 0 0 0]\n",
      "[0 0 0 0 0 0 0 0 0 0 0 0 0 0 0 0 0 0 0 0 0 0 0 0 0 0 0 0 0 0 0 0 0 0 0 0 0\n",
      " 0 0 0 0 0 0 0 0 0 0 0 0 0 0 0 0 0 0 0 0 0 0 0 0 0 0 0]\n",
      "[0 0 0 0 0 0 0 0 0 0 0 0 0 0 0 0 0 0 0 0 0 0 0 0 0 0 0 0 0 0 0 0 0 0 0 0 0\n",
      " 0 0 0 0 0 0 0 0 0 0 0 0 0 0 0 0 0 0 0 0 0 0 0 0 0 0 0]\n",
      "[0 0 0 0 0 0 0 0 0 0 0 0 0 0 0 0 0 0 0 0 0 0 0 0 0 0 0 0 0 0 0 0 0 0 0 0 0\n",
      " 0 0 0 0 0 0 0 0 0 0 0 0 0 0 0 0 0 0 0 0 0 0 0 0 0 0 0]\n",
      "[ 0  0  0  0  0  0  0 44  0  0  0  0  0  0  0  0  0  0  0  0  0  0  0  0\n",
      "  0  0  0  0  0  0  0  0  0  0  0  0  0  0  0  0  0  0  0  0  0  0  0  0\n",
      "  0  0  0  0  0  0  0  0  0  0  0  0  0  0  0  0]\n",
      "[0 0 0 0 0 0 0 1 0 0 0 0 0 0 0 0 0 0 0 0 0 0 0 0 0 0 0 0 0 0 0 0 0 0 0 0 0\n",
      " 0 0 0 0 0 0 0 0 0 0 0 0 0 0 0 0 0 0 0 0 0 0 0 0 0 0 0]\n",
      "[ 0  0  0  0  0  0  0 67  0  0  0  0  0  0  0  0  0  0  0  0  0  0  0  0\n",
      "  0  0  0  0  0  0  0  0  0  0  0  0  0  0  0  0  0  0  0  0  0  0  0  0\n",
      "  0  0  0  0  0  0  0  0  0  0  0  0  0  0  0  0]\n",
      "[0 0 0 0 0 0 0 0 0 2 0 0 0 0 0 0 0 0 0 0 0 0 0 0 0 0 0 0 0 0 0 0 0 0 0 0 0\n",
      " 0 0 0 0 0 0 0 0 0 0 0 0 0 0 0 0 0 0 0 0 0 0 0 0 0 0 0]\n",
      "[ 0  0  0  0  0  0  0  0  0  0 22  0  0  0  0  0  0  0  0  0  0  0  0  0\n",
      "  0  0  0  0  0  0  0  0  0  0  0  0  0  0  0  0  0  0  0  0  0  0  0  0\n",
      "  0  0  0  0  0  0  0  0  0  0  0  0  0  0  0  0]\n",
      "[ 0  0  0  0  0  0  0  0  0  0 83  0  0  0  0  0  0  0  0  0  0  0  0  0\n",
      "  0  0  0  0  0  0  0  0  0  0  0  0  0  0  0  0  0  0  0  0  0  0  0  0\n",
      "  0  0  0  0  0  0  0  0  0  0  0  0  0  0  0  0]\n",
      "[ 0  0  0  0  0  0  0  0  0  0  0 86 61  0  0  0  0  0  0  0  0  0  0  0\n",
      "  0  0  0  0  0  0  0  0  0  0  0  0  0  0  0  0  0  0  0  0  0  0  0  0\n",
      "  0  0  0  0  0  0  0  0  0  0  0  0  0  0  0  0]\n",
      "[ 0  0  0  0  0  0  0  0  0  0  0 23 68 73  0  0  0  0  0  0  0  0  0  0\n",
      "  0  0  0  0  0  0  0  0  0  0  0  0  0  0  0  0  0  0  0  0  0  0  0  0\n",
      "  0  0  0  0  0  0  0  0  0  0  0  0  0  0  0  0]\n",
      "[0 0 0 0 0 0 0 0 0 0 0 0 0 0 0 0 0 0 0 0 0 0 0 0 0 0 0 0 0 0 0 0 0 0 0 0 0\n",
      " 0 0 0 0 0 0 0 0 0 0 0 0 0 0 0 0 0 0 0 0 0 0 0 0 0 0 0]\n",
      "[ 0  0  0  0  0  0  0  0  0  0  0  0  0 80  0  0  0  0  0  0  0  0  0  0\n",
      "  0  0  0  0  0  0  0  0  0  0  0  0  0  0  0  0  0  0  0  0  0  0  0  0\n",
      "  0  0  0  0  0  0  0  0  0  0  0  0  0  0  0  0]\n",
      "[0 0 0 0 0 0 0 0 0 0 0 0 0 0 0 0 0 0 0 0 0 0 0 0 0 0 0 0 0 0 0 0 0 0 0 0 0\n",
      " 0 0 0 0 0 0 0 0 0 0 0 0 0 0 0 0 0 0 0 0 0 0 0 0 0 0 0]\n",
      "[0 0 0 0 0 0 0 0 0 0 0 0 0 0 0 0 0 0 0 0 0 0 0 0 0 0 0 0 0 0 0 0 0 0 0 0 0\n",
      " 0 0 0 0 0 0 0 0 0 0 0 0 0 0 0 0 0 0 0 0 0 0 0 0 0 0 0]\n",
      "[ 0  0  0  0  0  0  0  0  0  0  0  0  0  0  0 24  0  0  0  0  0  0  0  0\n",
      "  0  0  0  0  0  0  0  0  0  0  0  0  0  0  0  0  0  0  0  0  0  0  0  0\n",
      "  0  0  0  0  0  0  0  0  0  0  0  0  0  0  0  0]\n",
      "[ 0  0  0  0  0  0  0  0  0  0  0  0  0  0  0  0 74  0 62  0  0  0  0  0\n",
      "  0  0  0  0  0  0  0  0  0  0  0  0  0  0  0  0  0  0  0  0  0  0  0  0\n",
      "  0  0  0  0  0  0  0  0  0  0  0  0  0  0  0  0]\n",
      "[0 0 0 0 0 0 0 0 0 0 0 0 0 0 0 0 0 0 0 0 0 0 0 0 0 0 0 0 0 0 0 0 0 0 0 0 0\n",
      " 0 0 0 0 0 0 0 0 0 0 0 0 0 0 0 0 0 0 0 0 0 0 0 0 0 0 0]\n",
      "[ 0  0  0  0  0  0  0  0  0  0  0  0  0  0  0  0  0  0 69 34  0  0  0  0\n",
      "  0  0  0  0  0  0  0  0  0  0  0  0  0  0  0  0  0  0  0  0  0  0  0  0\n",
      "  0  0  0  0  0  0  0  0  0  0  0  0  0  0  0  0]\n",
      "[ 0  0  0  0  0  0  0  0  0  0  0  0  0  0  0  0  0  0  0 46  0  0  0  0\n",
      "  0  0  0  0  0  0  0  0  0  0  0  0  0  0  0  0  0  0  0  0  0  0  0  0\n",
      "  0  0  0  0  0  0  0  0  0  0  0  0  0  0  0  0]\n",
      "[ 0  0  0  0  0  0  0  0  0  0  0  0  0  0  0  0  0 57 49  0  0  0  0  0\n",
      "  0  0  0  0  0  0  0  0  0  0  0  0  0  0  0  0  0  0  0  0  0  0  0  0\n",
      "  0  0  0  0  0  0  0  0  0  0  0  0  0  0  0  0]\n",
      "[ 0  0  0  0  0  0  0  0  0  0  0  0  0  0  0  0  0  0  0 75  0  0  0  0\n",
      "  0  0  0  0  0  0  0  0  0  0  0  0  0  0  0  0  0  0  0  0  0  0  0  0\n",
      "  0  0  0  0  0  0  0  0  0  0  0  0  0  0  0  0]\n",
      "[ 0  0  0  0  0  0  0  0  0  0  0  0  0  0  0  0  0  0  0 63  0  0  0  0\n",
      "  0  0  0  0  0  0  0  0  0  0  0  0  0  0  0  0  0  0  0  0  0  0  0  0\n",
      "  0  0  0  0  0  0  0  0  0  0  0  0  0  0  0  0]\n",
      "[ 0  0  0  0  0  0  0  0  0  0  0  0  0  0  0  0  0  0  0  0 26  0  0  6\n",
      "  0  0  0  0  0  0  0  0  0  0  0  0  0  0  0  0  0  0  0  0  0  0  0  0\n",
      "  0  0  0  0  0  0  0  0  0  0  0  0  0  0  0  0]\n",
      "[ 0  0  0  0  0  0  0  0  0  0  0  0  0  0  0  0  0  0  0  0 50 19  0  0\n",
      "  0  0  0  0  0  0  0  0  0  0  0  0  0  0  0  0  0  0  0  0  0  0  0  0\n",
      "  0  0  0  0  0  0  0  0  0  0  0  0  0  0  0  0]\n",
      "[ 0  0  0  0  0  0  0  0  0  0  0  0  0  0  0  0  0  0  0  0  0 76  0 58\n",
      "  0  0  0  0  0  0  0  0  0  0  0  0  0  0  0  0  0  0  0  0  0  0  0  0\n",
      "  0  0  0  0  0  0  0  0  0  0  0  0  0  0  0  0]\n",
      "[ 0  0  0  0  0  0  0  0  0  0  0  0  0  0  0  0  0  0  0  0  0  0  0  0\n",
      " 70  0  0  0  0  0  0  0  0  0  0  0  0  0  0  0  0  0  0  0  0  0  0  0\n",
      "  0  0  0  0  0  0  0  0  0  0  0  0  0  0  0  0]\n",
      "[ 0  0  0  0  0  0  0  0  0  0  0  0  0  0  0  0  0  0  0  0  0  0  0 33\n",
      "  0  0  0  0  0  0  0  0  0  0  0  0  0  0  0  0  0  0  0  0  0  0  0  0\n",
      "  0  0  0  0  0  0  0  0  0  0  0  0  0  0  0  0]\n",
      "[ 0  0  0  0  0  0  0  0  0  0  0  0  0  0  0  0  0  0  0  0  0  0  0 20\n",
      " 27  0 30  0  0  0  0  0  0  0  0  0  0  0  0  0  0  0  0  0  0  0  0  0\n",
      "  0  0  0  0  0  0  0  0  0  0  0  0  0  0  0  0]\n",
      "[ 0  0  0  0  0  0  0  0  0  0  0  0  0  0  0  0  0  0  0  0  0  0  0  0\n",
      "  0 51 64  0  0  0  0  0  0  0  0  0  0  0  0  0  0  0  0  0  0  0  0  0\n",
      "  0  0  0  0  0  0  0  0  0  0  0  0  0  0  0  0]\n",
      "[0 0 0 0 0 0 0 0 0 0 0 0 0 0 0 0 0 0 0 0 0 0 0 0 0 0 0 0 0 0 0 0 0 0 0 0 0\n",
      " 0 0 0 0 0 0 0 0 0 0 0 0 0 0 0 0 0 0 0 0 0 0 0 0 0 0 0]\n",
      "[0 0 0 0 0 0 0 0 0 0 0 0 0 0 0 0 0 0 0 0 0 0 0 0 0 0 0 0 0 0 0 0 0 0 0 0 0\n",
      " 0 0 0 0 0 0 0 0 0 0 0 0 0 0 0 0 0 0 0 0 0 0 0 0 0 0 0]\n",
      "[ 0  0  0  0  0  0  0  0  0  0  0  0  0  0  0  0  0  0  0  0  0  0  0  0\n",
      "  0  0 21 11  0  0  0  0  0  0  0  0  0  0  0  0  0  0  0  0  0  0  0  0\n",
      "  0  0  0  0  0  0  0  0  0  0  0  0  0  0  0  0]\n",
      "[0 0 0 0 0 0 0 0 0 0 0 0 0 0 0 0 0 0 0 0 0 0 0 0 0 0 0 0 0 0 0 0 0 0 0 0 0\n",
      " 0 0 0 0 0 0 0 0 0 0 0 0 0 0 0 0 0 0 0 0 0 0 0 0 0 0 0]\n",
      "[0 0 0 0 0 0 0 0 0 0 0 0 0 0 0 0 0 0 0 0 0 0 0 0 0 0 0 0 0 7 0 0 0 0 0 0 0\n",
      " 0 0 0 0 0 0 0 0 0 0 0 0 0 0 0 0 0 0 0 0 0 0 0 0 0 0 0]\n",
      "[0 0 0 0 0 0 0 0 0 0 0 0 0 0 0 0 0 0 0 0 0 0 0 0 0 0 0 0 0 4 0 0 0 0 0 0 0\n",
      " 0 0 0 0 0 0 0 0 0 0 0 0 0 0 0 0 0 0 0 0 0 0 0 0 0 0 0]\n",
      "[0 0 0 0 0 0 0 0 0 0 0 0 0 0 0 0 0 0 0 0 0 0 0 0 0 0 0 0 0 0 0 0 0 0 0 0 0\n",
      " 0 0 0 0 0 0 0 0 0 0 0 0 0 0 0 0 0 0 0 0 0 0 0 0 0 0 0]\n",
      "[ 0  0  0  0  0  0  0  0  0  0  0  0  0  0  0  0  0  0  0  0  0  0  0  0\n",
      "  0  0  0  0  0  0 12  0  0  0  0  0  0  0  0  0  0  0  0  0  0  0  0  0\n",
      "  0  0  0  0  0  0  0  0  0  0  0  0  0  0  0  0]\n",
      "[0 0 0 0 0 0 0 0 0 0 0 0 0 0 0 0 0 0 0 0 0 0 0 0 0 0 0 0 0 0 0 0 0 0 0 0 0\n",
      " 0 0 0 0 0 0 0 0 0 0 0 0 0 0 0 0 0 0 0 0 0 0 0 0 0 0 0]\n",
      "[0 0 0 0 0 0 0 0 0 0 0 0 0 0 0 0 0 0 0 0 0 0 0 0 0 0 0 0 0 0 5 0 0 0 0 0 0\n",
      " 0 0 0 0 0 0 0 0 0 0 0 0 0 0 0 0 0 0 0 0 0 0 0 0 0 0 0]\n",
      "[ 0  0  0  0  0  0  0  0  0  0  0  0  0  0  0  0  0  0  0  0  0  0  0  0\n",
      "  0  0  0  0  0  0  0 14  0  0  0  0  0  0  0  0  0  0  0  0  0  0  0  0\n",
      "  0  0  0  0  0  0  0  0  0  0  0  0  0  0  0  0]\n",
      "[0 0 0 0 0 0 0 0 0 0 0 0 0 0 0 0 0 0 0 0 0 0 0 0 0 0 0 0 0 0 0 0 0 0 0 0 0\n",
      " 0 0 0 0 0 0 0 0 0 0 0 0 0 0 0 0 0 0 0 0 0 0 0 0 0 0 0]\n",
      "[0 0 0 0 0 0 0 0 0 0 0 0 0 0 0 0 0 0 0 0 0 0 0 0 0 0 0 0 0 0 0 0 0 0 0 0 0\n",
      " 0 0 0 0 0 0 0 0 0 0 0 0 0 0 0 0 0 0 0 0 0 0 0 0 0 0 0]\n",
      "[ 0  0  0  0  0  0  0  0  0  0  0  0  0  0  0  0  0  0  0  0  0  0  0  0\n",
      "  0  0  0  0  0  0  0  0  0  0 39  0  0  0  0  0  0  0  0  0  0  0  0  0\n",
      "  0  0  0  0  0  0  0  0  0  0  0  0  0  0  0  0]\n",
      "[ 0  0  0  0  0  0  0  0  0  0  0  0  0  0  0  0  0  0  0  0  0  0  0  0\n",
      "  0  0  0  0  0  0  0  0  0  0 15 13  0  8  0  0  0  0  0  0  0  0  0  0\n",
      "  0  0  0  0  0  0  0  0  0  0  0  0  0  0  0  0]\n",
      "[0 0 0 0 0 0 0 0 0 0 0 0 0 0 0 0 0 0 0 0 0 0 0 0 0 0 0 0 0 0 0 0 0 0 0 0 0\n",
      " 0 0 0 0 0 0 0 0 0 0 0 0 0 0 0 0 0 0 0 0 0 0 0 0 0 0 0]\n",
      "[0 0 0 0 0 0 0 0 0 0 0 0 0 0 0 0 0 0 0 0 0 0 0 0 0 0 0 0 0 0 0 0 0 0 0 0 0\n",
      " 0 0 0 0 0 0 0 0 0 0 0 0 0 0 0 0 0 0 0 0 0 0 0 0 0 0 0]\n",
      "[ 0  0  0  0  0  0  0  0  0  0  0  0  0  0  0  0  0  0  0  0  0  0  0  0\n",
      "  0  0  0  0  0  0  0  0  0  0  0 40  3  0  0  0  0  0  0  0  0  0  0  0\n",
      "  0  0  0  0  0  0  0  0  0  0  0  0  0  0  0  0]\n",
      "[0 0 0 0 0 0 0 0 0 0 0 0 0 0 0 0 0 0 0 0 0 0 0 0 0 0 0 0 0 0 0 0 0 0 0 0 0\n",
      " 0 0 0 0 0 0 0 0 0 0 0 0 0 0 0 0 0 0 0 0 0 0 0 0 0 0 0]\n",
      "[ 0  0  0  0  0  0  0  0  0  0  0  0  0  0  0  0  0  0  0  0  0  0  0  0\n",
      "  0  0  0  0  0  0  0  0  0  0  0  0  0 87  0  0  0  0  0  0  0  0  0  0\n",
      "  0  0  0  0  0  0  0  0  0  0  0  0  0  0  0  0]\n",
      "[ 0  0  0  0  0  0  0  0  0  0  0  0  0  0  0  0  0  0  0  0  0  0  0  0\n",
      "  0  0  0  0  0  0  0  0  0  0  0  0  0 84 17  0  0  0  0  0  0  0  0  0\n",
      "  0  0  0  0  0  0  0  0  0  0  0  0  0  0  0  0]\n",
      "[ 0  0  0  0  0  0  0  0  0  0  0  0  0  0  0  0  0  0  0  0  0  0  0  0\n",
      "  0  0  0  0  0  0  0  0  0  0  0  0  0  0 37  0  0  0  0  0  0  0  0  0\n",
      "  0  0  0  0  0  0  0  0  0  0  0  0  0  0  0  0]\n",
      "[ 0  0  0  0  0  0  0  0  0  0  0  0  0  0  0  0  0  0  0  0  0  0  0  0\n",
      "  0  0  0  0  0  0  0  0  0  0  0  0  0  0 85 88  0  0  0  0  0  0  0  0\n",
      "  0  0  0  0  0  0  0  0  0  0  0  0  0  0  0  0]\n",
      "[ 0  0  0  0  0  0  0  0  0  0  0  0  0  0  0  0  0  0  0  0  0  0  0  0\n",
      "  0  0  0  0  0  0  0  0  0  0  0  0  0  0  0  0 43  9  0  0  0  0  0  0\n",
      "  0  0  0  0  0  0  0  0  0  0  0  0  0  0  0  0]\n",
      "[0 0 0 0 0 0 0 0 0 0 0 0 0 0 0 0 0 0 0 0 0 0 0 0 0 0 0 0 0 0 0 0 0 0 0 0 0\n",
      " 0 0 0 0 0 0 0 0 0 0 0 0 0 0 0 0 0 0 0 0 0 0 0 0 0 0 0]\n",
      "[0 0 0 0 0 0 0 0 0 0 0 0 0 0 0 0 0 0 0 0 0 0 0 0 0 0 0 0 0 0 0 0 0 0 0 0 0\n",
      " 0 0 0 0 0 0 0 0 0 0 0 0 0 0 0 0 0 0 0 0 0 0 0 0 0 0 0]\n",
      "[0 0 0 0 0 0 0 0 0 0 0 0 0 0 0 0 0 0 0 0 0 0 0 0 0 0 0 0 0 0 0 0 0 0 0 0 0\n",
      " 0 0 0 0 0 0 0 0 0 0 0 0 0 0 0 0 0 0 0 0 0 0 0 0 0 0 0]\n",
      "[0 0 0 0 0 0 0 0 0 0 0 0 0 0 0 0 0 0 0 0 0 0 0 0 0 0 0 0 0 0 0 0 0 0 0 0 0\n",
      " 0 0 0 0 0 0 0 0 0 0 0 0 0 0 0 0 0 0 0 0 0 0 0 0 0 0 0]\n",
      "[0 0 0 0 0 0 0 0 0 0 0 0 0 0 0 0 0 0 0 0 0 0 0 0 0 0 0 0 0 0 0 0 0 0 0 0 0\n",
      " 0 0 0 0 0 0 0 0 0 0 0 0 0 0 0 0 0 0 0 0 0 0 0 0 0 0 0]\n"
     ]
    }
   ],
   "source": [
    "for i in grid:\n",
    "    print(i)"
   ]
  },
  {
   "cell_type": "code",
   "execution_count": 111,
   "metadata": {},
   "outputs": [
    {
     "data": {
      "text/html": [
       "<div>\n",
       "<style scoped>\n",
       "    .dataframe tbody tr th:only-of-type {\n",
       "        vertical-align: middle;\n",
       "    }\n",
       "\n",
       "    .dataframe tbody tr th {\n",
       "        vertical-align: top;\n",
       "    }\n",
       "\n",
       "    .dataframe thead th {\n",
       "        text-align: right;\n",
       "    }\n",
       "</style>\n",
       "<table border=\"1\" class=\"dataframe\">\n",
       "  <thead>\n",
       "    <tr style=\"text-align: right;\">\n",
       "      <th></th>\n",
       "      <th>Unnamed: 0</th>\n",
       "      <th>text</th>\n",
       "      <th>bbox</th>\n",
       "      <th>shape</th>\n",
       "      <th>image</th>\n",
       "      <th>tag</th>\n",
       "      <th>center</th>\n",
       "      <th>width</th>\n",
       "      <th>height</th>\n",
       "      <th>image_height</th>\n",
       "      <th>image_width</th>\n",
       "      <th>row</th>\n",
       "      <th>col</th>\n",
       "      <th>int_row</th>\n",
       "      <th>int_col</th>\n",
       "      <th>floor_row</th>\n",
       "      <th>floor_col</th>\n",
       "      <th>pos</th>\n",
       "      <th>pos_r</th>\n",
       "      <th>pos_c</th>\n",
       "    </tr>\n",
       "  </thead>\n",
       "  <tbody>\n",
       "    <tr>\n",
       "      <th>0</th>\n",
       "      <td>0</td>\n",
       "      <td>-212</td>\n",
       "      <td>[78, 51, 124, 70]</td>\n",
       "      <td>1137 1739</td>\n",
       "      <td>30.png</td>\n",
       "      <td>O</td>\n",
       "      <td>[101.   60.5]</td>\n",
       "      <td>46</td>\n",
       "      <td>19</td>\n",
       "      <td>1739</td>\n",
       "      <td>1137</td>\n",
       "      <td>5.685136</td>\n",
       "      <td>4.913168</td>\n",
       "      <td>5</td>\n",
       "      <td>4</td>\n",
       "      <td>6</td>\n",
       "      <td>5</td>\n",
       "      <td>(6, 5)</td>\n",
       "      <td>6</td>\n",
       "      <td>5</td>\n",
       "    </tr>\n",
       "    <tr>\n",
       "      <th>1</th>\n",
       "      <td>1</td>\n",
       "      <td>753-</td>\n",
       "      <td>[130, 48, 171, 67]</td>\n",
       "      <td>1137 1739</td>\n",
       "      <td>30.png</td>\n",
       "      <td>O</td>\n",
       "      <td>[150.5  57.5]</td>\n",
       "      <td>41</td>\n",
       "      <td>19</td>\n",
       "      <td>1739</td>\n",
       "      <td>1137</td>\n",
       "      <td>8.471416</td>\n",
       "      <td>6.642898</td>\n",
       "      <td>8</td>\n",
       "      <td>6</td>\n",
       "      <td>9</td>\n",
       "      <td>7</td>\n",
       "      <td>(9, 7)</td>\n",
       "      <td>9</td>\n",
       "      <td>7</td>\n",
       "    </tr>\n",
       "    <tr>\n",
       "      <th>2</th>\n",
       "      <td>2</td>\n",
       "      <td>4455</td>\n",
       "      <td>[171, 48, 217, 65]</td>\n",
       "      <td>1137 1739</td>\n",
       "      <td>30.png</td>\n",
       "      <td>O</td>\n",
       "      <td>[194.   56.5]</td>\n",
       "      <td>46</td>\n",
       "      <td>17</td>\n",
       "      <td>1739</td>\n",
       "      <td>1137</td>\n",
       "      <td>10.919965</td>\n",
       "      <td>8.299022</td>\n",
       "      <td>10</td>\n",
       "      <td>8</td>\n",
       "      <td>11</td>\n",
       "      <td>9</td>\n",
       "      <td>(11, 9)</td>\n",
       "      <td>11</td>\n",
       "      <td>9</td>\n",
       "    </tr>\n",
       "    <tr>\n",
       "      <th>3</th>\n",
       "      <td>3</td>\n",
       "      <td>6242</td>\n",
       "      <td>[874, 100, 945, 127]</td>\n",
       "      <td>1137 1739</td>\n",
       "      <td>30.png</td>\n",
       "      <td>O</td>\n",
       "      <td>[909.5 113.5]</td>\n",
       "      <td>71</td>\n",
       "      <td>27</td>\n",
       "      <td>1739</td>\n",
       "      <td>1137</td>\n",
       "      <td>51.194371</td>\n",
       "      <td>35.275446</td>\n",
       "      <td>51</td>\n",
       "      <td>35</td>\n",
       "      <td>52</td>\n",
       "      <td>36</td>\n",
       "      <td>(52, 36)</td>\n",
       "      <td>52</td>\n",
       "      <td>36</td>\n",
       "    </tr>\n",
       "    <tr>\n",
       "      <th>4</th>\n",
       "      <td>4</td>\n",
       "      <td>INVOICE</td>\n",
       "      <td>[657, 105, 747, 133]</td>\n",
       "      <td>1137 1739</td>\n",
       "      <td>30.png</td>\n",
       "      <td>B-QUESTION</td>\n",
       "      <td>[702. 119.]</td>\n",
       "      <td>90</td>\n",
       "      <td>28</td>\n",
       "      <td>1739</td>\n",
       "      <td>1137</td>\n",
       "      <td>39.514512</td>\n",
       "      <td>28.006901</td>\n",
       "      <td>39</td>\n",
       "      <td>28</td>\n",
       "      <td>40</td>\n",
       "      <td>29</td>\n",
       "      <td>(40, 29)</td>\n",
       "      <td>40</td>\n",
       "      <td>29</td>\n",
       "    </tr>\n",
       "  </tbody>\n",
       "</table>\n",
       "</div>"
      ],
      "text/plain": [
       "   Unnamed: 0     text                  bbox      shape   image         tag  \\\n",
       "0           0     -212     [78, 51, 124, 70]  1137 1739  30.png           O   \n",
       "1           1     753-    [130, 48, 171, 67]  1137 1739  30.png           O   \n",
       "2           2     4455    [171, 48, 217, 65]  1137 1739  30.png           O   \n",
       "3           3     6242  [874, 100, 945, 127]  1137 1739  30.png           O   \n",
       "4           4  INVOICE  [657, 105, 747, 133]  1137 1739  30.png  B-QUESTION   \n",
       "\n",
       "          center  width  height image_height image_width        row  \\\n",
       "0  [101.   60.5]     46      19         1739        1137   5.685136   \n",
       "1  [150.5  57.5]     41      19         1739        1137   8.471416   \n",
       "2  [194.   56.5]     46      17         1739        1137  10.919965   \n",
       "3  [909.5 113.5]     71      27         1739        1137  51.194371   \n",
       "4    [702. 119.]     90      28         1739        1137  39.514512   \n",
       "\n",
       "         col  int_row  int_col  floor_row  floor_col       pos pos_r pos_c  \n",
       "0   4.913168        5        4          6          5    (6, 5)     6     5  \n",
       "1   6.642898        8        6          9          7    (9, 7)     9     7  \n",
       "2   8.299022       10        8         11          9   (11, 9)    11     9  \n",
       "3  35.275446       51       35         52         36  (52, 36)    52    36  \n",
       "4  28.006901       39       28         40         29  (40, 29)    40    29  "
      ]
     },
     "execution_count": 111,
     "metadata": {},
     "output_type": "execute_result"
    }
   ],
   "source": [
    "df_.head()"
   ]
  },
  {
   "cell_type": "code",
   "execution_count": 115,
   "metadata": {},
   "outputs": [
    {
     "data": {
      "text/plain": [
       "3"
      ]
     },
     "execution_count": 115,
     "metadata": {},
     "output_type": "execute_result"
    }
   ],
   "source": [
    "grid[52,36]"
   ]
  },
  {
   "cell_type": "code",
   "execution_count": null,
   "metadata": {},
   "outputs": [],
   "source": []
  }
 ],
 "metadata": {
  "kernelspec": {
   "display_name": "Python 3",
   "language": "python",
   "name": "python3"
  },
  "language_info": {
   "codemirror_mode": {
    "name": "ipython",
    "version": 3
   },
   "file_extension": ".py",
   "mimetype": "text/x-python",
   "name": "python",
   "nbconvert_exporter": "python",
   "pygments_lexer": "ipython3",
   "version": "3.6.5"
  }
 },
 "nbformat": 4,
 "nbformat_minor": 4
}
